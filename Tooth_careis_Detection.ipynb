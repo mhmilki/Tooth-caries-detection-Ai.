{
 "cells": [
  {
   "cell_type": "markdown",
   "id": "2f2d45a0",
   "metadata": {},
   "source": [
    "# Image Preprocessing"
   ]
  },
  {
   "cell_type": "markdown",
   "id": "d6784217",
   "metadata": {},
   "source": [
    "# Test  Image resize 512*512"
   ]
  },
  {
   "cell_type": "code",
   "execution_count": 2,
   "id": "a67f8768",
   "metadata": {},
   "outputs": [],
   "source": [
    "#Multiple caries Image Resize 512*512\n",
    "import PIL\n",
    "import os\n",
    "import os.path\n",
    "from PIL import Image\n",
    "\n",
    "img_cariestest = r'G:/Dental X-ray/teeth_dataset/teeth_dataset/test/caries'\n",
    "for file in os.listdir(img_cariestest):\n",
    "    C_img = img_cariestest+\"/\"+file\n",
    "    img = Image.open(C_img)\n",
    "    img = img.resize((512,512))\n",
    "    img.save(C_img)\n",
    "    \n",
    "#test image no-caries image resize   \n",
    "img_cariestest = r'G:/Dental X-ray/teeth_dataset/teeth_dataset/test/no-caries'\n",
    "for file in os.listdir(img_cariestest):\n",
    "    C_img = img_cariestest+\"/\"+file\n",
    "    img = Image.open(C_img)\n",
    "    img = img.resize((512,512))\n",
    "    img.save(C_img)"
   ]
  },
  {
   "cell_type": "markdown",
   "id": "d71b0f1b",
   "metadata": {},
   "source": [
    "# Training Image resize 512*512"
   ]
  },
  {
   "cell_type": "code",
   "execution_count": 3,
   "id": "d6dae9ce",
   "metadata": {},
   "outputs": [],
   "source": [
    "#Multiple caries Image Resize 512*512\n",
    "import PIL\n",
    "import os\n",
    "import os.path\n",
    "from PIL import Image\n",
    "\n",
    "img_cariestest = r'G:/Dental X-ray/teeth_dataset/teeth_dataset/Trianing/caries'\n",
    "for file in os.listdir(img_cariestest):\n",
    "    C_img = img_cariestest+\"/\"+file\n",
    "    img = Image.open(C_img)\n",
    "    img = img.resize((512,512))\n",
    "    img.save(C_img)\n",
    "    \n",
    "#test image no-caries image resize   \n",
    "img_cariestest = r'G:/Dental X-ray/teeth_dataset/teeth_dataset/Trianing/without_caries'\n",
    "for file in os.listdir(img_cariestest):\n",
    "    C_img = img_cariestest+\"/\"+file\n",
    "    img = Image.open(C_img)\n",
    "    img = img.resize((512,512))\n",
    "    img.save(C_img)"
   ]
  },
  {
   "cell_type": "markdown",
   "id": "80ff9d74",
   "metadata": {},
   "source": [
    "# Image enhancement"
   ]
  },
  {
   "cell_type": "code",
   "execution_count": 2,
   "id": "d0bb61bd",
   "metadata": {},
   "outputs": [],
   "source": [
    "from tensorflow.keras.preprocessing.image import ImageDataGenerator\n",
    "from tensorflow.keras.applications.mobilenet import MobileNet\n",
    "from tensorflow.keras.applications.vgg16 import VGG16\n",
    "from tensorflow.keras.applications.resnet50 import ResNet50\n",
    "from tensorflow.keras.applications.mobilenet import MobileNet\n",
    "from tensorflow.keras.layers import Dense, Flatten, Dropout\n",
    "from tensorflow.keras import Sequential\n",
    "from tensorflow.keras.optimizers import RMSprop\n",
    "from tensorflow.keras.callbacks import ModelCheckpoint\n",
    "import seaborn as sns\n",
    "import matplotlib.pyplot as plt\n",
    "import tensorflow as tf\n",
    "import os\n",
    "import cv2\n",
    "import matplotlib.image as mpimg\n",
    "import pandas as pd\n",
    "import wandb\n",
    "import random\n",
    "import numpy as np\n",
    "from wandb.keras import WandbCallback\n",
    "import visualkeras"
   ]
  },
  {
   "cell_type": "markdown",
   "id": "500d3a86",
   "metadata": {},
   "source": [
    "# FIXME: When upload dataset other"
   ]
  },
  {
   "cell_type": "code",
   "execution_count": 3,
   "id": "a5aa9536",
   "metadata": {},
   "outputs": [],
   "source": [
    "data_dir = 'G:/Dental X-ray/teeth_dataset/teeth_dataset'\n",
    "BASE_DIR = data_dir\n",
    "train_folder = os.path.join(BASE_DIR,'Trianing')\n",
    "test_folder = os.path.join(BASE_DIR,'test')\n",
    "label_ = os.listdir(train_folder)"
   ]
  },
  {
   "cell_type": "code",
   "execution_count": 4,
   "id": "d99b4bb3",
   "metadata": {},
   "outputs": [],
   "source": [
    "import albumentations as A"
   ]
  },
  {
   "cell_type": "code",
   "execution_count": 5,
   "id": "c897089f",
   "metadata": {},
   "outputs": [],
   "source": [
    "os.makedirs('teeth_dataset',exist_ok=True)\n",
    "os.makedirs('teeth_dataset/Trianing',exist_ok=True)\n",
    "os.makedirs('teeth_dataset/test',exist_ok=True)\n",
    "os.makedirs('teeth_dataset/Trianing/caries',exist_ok=True)\n",
    "os.makedirs('teeth_dataset/Trianing/without_caries',exist_ok=True)\n",
    "os.makedirs('teeth_dataset/test/caries',exist_ok=True)\n",
    "os.makedirs('teeth_dataset/test/no-caries',exist_ok=True)"
   ]
  },
  {
   "cell_type": "code",
   "execution_count": 6,
   "id": "b5ddae31",
   "metadata": {},
   "outputs": [],
   "source": [
    "transform = A.Compose([\n",
    "    A.VerticalFlip(p=0.5),\n",
    "    A.HorizontalFlip(p=0.5),\n",
    "    A.RandomBrightnessContrast(p=0.6),\n",
    "     A.OneOf([\n",
    "                        A.MotionBlur(blur_limit=3),\n",
    "                        A.MedianBlur(blur_limit=3),\n",
    "                        A.GaussianBlur(blur_limit=(1,3)),\n",
    "                        A.GaussNoise(var_limit=(5.0, 15.0)),\n",
    "                    ], p=0.7),\n",
    "    A.OneOf([\n",
    "                        A.OpticalDistortion(distort_limit=1.0),\n",
    "                        A.GridDistortion(num_steps=5, distort_limit=1.),\n",
    "                        A.ElasticTransform(alpha=3),\n",
    "                    ], p=0.7),\n",
    "    A.CLAHE(clip_limit=4.0, p=0.7),\n",
    "    A.ColorJitter(p=0.7,hue=0.1),\n",
    "    A.HueSaturationValue(hue_shift_limit=10, sat_shift_limit=20, val_shift_limit=10, p=0.5),\n",
    "    A.ShiftScaleRotate(shift_limit=0.1, scale_limit=0.1, rotate_limit=15, border_mode=0, p=0.85),\n",
    "    A.CoarseDropout(max_holes=1, max_height=int(50 * 0.375), max_width=int(50 * 0.375), min_holes=1, min_height=None, min_width=None, fill_value=0, mask_fill_value=None, always_apply=False, p=0.7),\n",
    "    \n",
    "])"
   ]
  },
  {
   "cell_type": "markdown",
   "id": "900a03f7",
   "metadata": {},
   "source": [
    "# Test caries"
   ]
  },
  {
   "cell_type": "code",
   "execution_count": 7,
   "id": "9fd2154f",
   "metadata": {},
   "outputs": [],
   "source": [
    "path = os.path.join('G:/Dental X-ray/teeth_dataset/teeth_dataset','test','caries')\n",
    "path_save = os.path.join('teeth_dataset','test','caries')\n",
    "for _image in os.listdir(path):\n",
    "    for i in range(20):\n",
    "        image = cv2.imread(os.path.join(path,_image))\n",
    "        image = cv2.cvtColor(image, cv2.COLOR_BGR2RGB)\n",
    "        transformed = transform(image=image)['image']\n",
    "        cv2.imwrite(path_save+'/'+_image[:-4]+\"_\"+str(i)+'.jpg' , transformed)"
   ]
  },
  {
   "cell_type": "markdown",
   "id": "b20be4af",
   "metadata": {},
   "source": [
    "# Test non-careis"
   ]
  },
  {
   "cell_type": "code",
   "execution_count": 8,
   "id": "9cb34570",
   "metadata": {},
   "outputs": [],
   "source": [
    "path = os.path.join('G:/Dental X-ray/teeth_dataset/teeth_dataset','test','no-caries')\n",
    "path_save = os.path.join('teeth_dataset','test','no-caries')\n",
    "for _image in os.listdir(path):\n",
    "    for i in range(20):\n",
    "        image = cv2.imread(os.path.join(path,_image))\n",
    "        image = cv2.cvtColor(image, cv2.COLOR_BGR2RGB)\n",
    "        transformed = transform(image=image)['image']\n",
    "        cv2.imwrite(path_save+'/'+_image[:-4]+\"_\"+str(i)+'.jpg' , transformed)"
   ]
  },
  {
   "cell_type": "markdown",
   "id": "efc19c42",
   "metadata": {},
   "source": [
    "# Train caries"
   ]
  },
  {
   "cell_type": "code",
   "execution_count": 9,
   "id": "c9fc43ca",
   "metadata": {},
   "outputs": [],
   "source": [
    "path = os.path.join('G:/Dental X-ray/teeth_dataset/teeth_dataset','Trianing','caries')\n",
    "path_save = os.path.join('teeth_dataset','Trianing','caries')\n",
    "for _image in os.listdir(path):\n",
    "    for i in range(20):\n",
    "        image = cv2.imread(os.path.join(path,_image))\n",
    "        image = cv2.cvtColor(image, cv2.COLOR_BGR2RGB)\n",
    "        transformed = transform(image=image)['image']\n",
    "        cv2.imwrite(path_save+'/'+_image[:-4]+\"_\"+str(i)+'.jpg' , transformed)"
   ]
  },
  {
   "cell_type": "markdown",
   "id": "b3aa5d09",
   "metadata": {},
   "source": [
    "# Train Without_caries"
   ]
  },
  {
   "cell_type": "code",
   "execution_count": 10,
   "id": "72d5f501",
   "metadata": {},
   "outputs": [],
   "source": [
    "path = os.path.join('G:/Dental X-ray/teeth_dataset/teeth_dataset','Trianing','without_caries')\n",
    "path_save = os.path.join('teeth_dataset','Trianing','without_caries')\n",
    "for _image in os.listdir(path):\n",
    "    for i in range(20):\n",
    "        image = cv2.imread(os.path.join(path,_image))\n",
    "        image = cv2.cvtColor(image, cv2.COLOR_BGR2RGB)\n",
    "        transformed = transform(image=image)['image']\n",
    "        cv2.imwrite(path_save+'/'+_image[:-4]+\"_\"+str(i)+'.jpg' , transformed)"
   ]
  },
  {
   "cell_type": "markdown",
   "id": "84c246a6",
   "metadata": {},
   "source": [
    "# TRAIN TO CSV"
   ]
  },
  {
   "cell_type": "code",
   "execution_count": 11,
   "id": "87be46dd",
   "metadata": {},
   "outputs": [],
   "source": [
    "#When upload dataset other\n",
    "BASE2_DIR = 'G:/Dental X-ray/teeth_dataset'\n",
    "train2_folder = os.path.join(BASE2_DIR,'Trianing')\n",
    "test2_folder = os.path.join(BASE2_DIR,'test')\n",
    "label_ = os.listdir(train2_folder)"
   ]
  },
  {
   "cell_type": "code",
   "execution_count": 16,
   "id": "d0256344",
   "metadata": {},
   "outputs": [
    {
     "name": "stderr",
     "output_type": "stream",
     "text": [
      "C:\\Users\\HP\\AppData\\Local\\Temp\\ipykernel_11060\\2853603584.py:1: FutureWarning: The default dtype for empty Series will be 'object' instead of 'float64' in a future version. Specify a dtype explicitly to silence this warning.\n",
      "  df_train = pd.Series()\n"
     ]
    }
   ],
   "source": [
    "df_train = pd.Series()\n",
    "df_image = []\n",
    "df_label = []\n",
    "\n",
    "label_num = 0\n",
    "\n",
    "for i_label in os.listdir(train_folder):\n",
    "    for j_image in sorted(os.listdir(os.path.join(train_folder,i_label))): #return full images within the folder\n",
    "        df_image.append(os.path.join('train',i_label,j_image)) # return path_image\n",
    "        df_label.append(label_num)\n",
    "    label_num += 1\n",
    "    df_train['images'] = df_image\n",
    "    df_train['target'] = df_label\n",
    "    #caries = 0, no-caries = 1\n",
    "    df_train.to_csv('./train.csv')"
   ]
  },
  {
   "cell_type": "markdown",
   "id": "b1120ca4",
   "metadata": {},
   "source": [
    "# TEST TO CSV"
   ]
  },
  {
   "cell_type": "code",
   "execution_count": 17,
   "id": "e5cd5c08",
   "metadata": {},
   "outputs": [
    {
     "name": "stderr",
     "output_type": "stream",
     "text": [
      "C:\\Users\\HP\\AppData\\Local\\Temp\\ipykernel_11060\\213782829.py:1: FutureWarning: The default dtype for empty Series will be 'object' instead of 'float64' in a future version. Specify a dtype explicitly to silence this warning.\n",
      "  df_test = pd.Series()\n"
     ]
    }
   ],
   "source": [
    "df_test = pd.Series()\n",
    "df_image = []\n",
    "df_label = []\n",
    "\n",
    "label_num = 0\n",
    "\n",
    "for i_label in os.listdir(test_folder):\n",
    "    for j_image in sorted(os.listdir(os.path.join(test_folder,i_label))): #return full images within the folder\n",
    "        df_image.append(os.path.join('test',i_label,j_image))\n",
    "        df_label.append(label_num)\n",
    "    label_num += 1\n",
    "    df_test['images'] = df_image\n",
    "    df_test['target'] = df_label\n",
    "#caries = 1, no-caries = 0\n",
    "    df_test.to_csv('./test.csv')"
   ]
  },
  {
   "cell_type": "code",
   "execution_count": 18,
   "id": "eeaf7a71",
   "metadata": {},
   "outputs": [
    {
     "data": {
      "text/plain": [
       "(images    [train\\caries\\wc10.jpg, train\\caries\\wc11.jpg,...\n",
       " target    [0, 0, 0, 0, 0, 0, 0, 0, 0, 0, 0, 0, 0, 0, 0, ...\n",
       " dtype: object,\n",
       " images    [test\\caries\\wc1.jpg, test\\caries\\wc2.jpg, tes...\n",
       " target           [0, 0, 0, 0, 0, 0, 0, 0, 0, 0, 1, 1, 1, 1]\n",
       " dtype: object)"
      ]
     },
     "execution_count": 18,
     "metadata": {},
     "output_type": "execute_result"
    }
   ],
   "source": [
    "df_train.head(30),df_test.tail(14)"
   ]
  },
  {
   "cell_type": "markdown",
   "id": "91625eaf",
   "metadata": {},
   "source": [
    "# VISUALIZATION DATASET"
   ]
  },
  {
   "cell_type": "code",
   "execution_count": 15,
   "id": "6a6e387b",
   "metadata": {},
   "outputs": [
    {
     "name": "stdout",
     "output_type": "stream",
     "text": [
      "Number of train images: 2\n",
      "Number of test images: 2\n"
     ]
    }
   ],
   "source": [
    "print('Number of train images:',len(df_train))\n",
    "print('Number of test images:',len(df_test))"
   ]
  },
  {
   "cell_type": "markdown",
   "id": "58296772",
   "metadata": {},
   "source": [
    "# Visualized Caries and without_caries Images in Training"
   ]
  },
  {
   "cell_type": "code",
   "execution_count": 18,
   "id": "f0b27dce",
   "metadata": {},
   "outputs": [
    {
     "data": {
      "image/png": "[encoded data removed]",
      "text/plain": [
       "<Figure size 720x720 with 1 Axes>"
      ]
     },
     "metadata": {
      "needs_background": "light"
     },
     "output_type": "display_data"
    }
   ],
   "source": [
    "plt.figure(figsize=(10,10))\n",
    "ax = sns.countplot(x = 'target', data = df_train)\n",
    "ax.set_title('Number Caries and without_caries Images in Training', size=20)\n",
    "ax.set_xlabel(\"Label\",fontsize=20)\n",
    "ax.set_ylabel(\"Number\",fontsize=20)\n",
    "ax.set_xticklabels(['without_caries', 'Caries'],fontsize=15)\n",
    "for p in ax.patches:\n",
    "    ax.annotate('{:.0f}'.format(p.get_height()), (p.get_x()+0.40, p.get_height()+0.2),fontsize=20)"
   ]
  },
  {
   "cell_type": "markdown",
   "id": "8e679fbf",
   "metadata": {},
   "source": [
    "# Visualized Caries and No-caries Images in Test"
   ]
  },
  {
   "cell_type": "code",
   "execution_count": 19,
   "id": "e7f246cf",
   "metadata": {},
   "outputs": [
    {
     "data": {
      "image/png": "[encoded data removed]",
      "text/plain": [
       "<Figure size 720x720 with 1 Axes>"
      ]
     },
     "metadata": {
      "needs_background": "light"
     },
     "output_type": "display_data"
    }
   ],
   "source": [
    "plt.figure(figsize=(10,10))\n",
    "ax = sns.countplot(x = 'target', data = df_test)\n",
    "ax.set_title('Number Caries and No-Caries Images in Test', size=20)\n",
    "ax.set_xlabel(\"Label\",fontsize=20)\n",
    "ax.set_ylabel(\"Number\",fontsize=20)\n",
    "ax.set_xticklabels(['No-Caries', 'Caries'],fontsize=15)\n",
    "for p in ax.patches:\n",
    "    ax.annotate('{:.0f}'.format(p.get_height()), (p.get_x()+0.35, p.get_height()+0.2),fontsize=20)"
   ]
  },
  {
   "cell_type": "markdown",
   "id": "a99fe651",
   "metadata": {},
   "source": [
    "# import the necessary packages"
   ]
  },
  {
   "cell_type": "code",
   "execution_count": 40,
   "id": "d0d1fb9f",
   "metadata": {},
   "outputs": [],
   "source": [
    "from tensorflow.keras.preprocessing.image import ImageDataGenerator\n",
    "from tensorflow.keras.applications.mobilenet import MobileNet\n",
    "from tensorflow.keras.applications.vgg16 import VGG16\n",
    "from tensorflow.keras.applications.resnet50 import ResNet50\n",
    "from tensorflow.keras.applications.mobilenet import MobileNet\n",
    "from tensorflow.keras.layers import Dense, Flatten, Dropout\n",
    "from tensorflow.keras import Sequential\n",
    "from tensorflow.keras.optimizers import RMSprop\n",
    "from tensorflow.keras.callbacks import ModelCheckpoint\n",
    "import tensorflow as tf\n",
    "import os\n",
    "import wandb\n",
    "from wandb.keras import WandbCallback"
   ]
  },
  {
   "cell_type": "markdown",
   "id": "0ce86f31",
   "metadata": {},
   "source": [
    "# Read Trianing & Test Dir image datat generator"
   ]
  },
  {
   "cell_type": "code",
   "execution_count": 44,
   "id": "29c42a10",
   "metadata": {},
   "outputs": [],
   "source": [
    "train_dir = \"G:/Dental X-ray/teeth_dataset/Trianing\"\n",
    "val_dir = \"G:/Dental X-ray/teeth_dataset/test\"\n",
    "\n",
    "train_datagen = ImageDataGenerator( \n",
    "    rescale = 1.0/255.,\n",
    "    rotation_range=40,\n",
    "    width_shift_range=0.2,\n",
    "    height_shift_range=0.2,\n",
    "    shear_range=0.2,\n",
    "    zoom_range=0.2,\n",
    "    horizontal_flip=True,\n",
    "    fill_mode='nearest',\n",
    "    brightness_range=(0.5, 1.5),\n",
    ")\n",
    "val_datagen = ImageDataGenerator(rescale=1./255.)"
   ]
  },
  {
   "cell_type": "markdown",
   "id": "5fc34d62",
   "metadata": {},
   "source": [
    "# Found Image Belonging to Classes"
   ]
  },
  {
   "cell_type": "code",
   "execution_count": 45,
   "id": "1544c15d",
   "metadata": {},
   "outputs": [
    {
     "name": "stdout",
     "output_type": "stream",
     "text": [
      "Found 1200 images belonging to 2 classes.\n",
      "Found 280 images belonging to 2 classes.\n"
     ]
    }
   ],
   "source": [
    "train_generator = train_datagen.flow_from_directory(\n",
    "    train_dir, \n",
    "    batch_size=26,\n",
    "    target_size=(250, 250)\n",
    ")\n",
    "val_generator = val_datagen.flow_from_directory(\n",
    "    val_dir, \n",
    "    batch_size=26,\n",
    "    target_size=(250, 250)\n",
    ")"
   ]
  },
  {
   "cell_type": "markdown",
   "id": "4d1e5ac1",
   "metadata": {},
   "source": [
    "# VGG16"
   ]
  },
  {
   "cell_type": "code",
   "execution_count": 46,
   "id": "d329684e",
   "metadata": {},
   "outputs": [],
   "source": [
    "base_model = VGG16(include_top=False, input_shape=(224, 224, 3))"
   ]
  },
  {
   "cell_type": "markdown",
   "id": "8aa4de63",
   "metadata": {},
   "source": [
    "# VGG16 Model make with activation relu"
   ]
  },
  {
   "cell_type": "code",
   "execution_count": 47,
   "id": "abc69e30",
   "metadata": {},
   "outputs": [],
   "source": [
    "model = Sequential()\n",
    "model.add(base_model)\n",
    "model.add(Flatten())\n",
    "model.add(Dense(512, activation=\"relu\"))\n",
    "model.add(Dropout(0.2))\n",
    "model.add(Dense(256, activation=\"relu\"))\n",
    "model.add(Dropout(0.2))\n",
    "model.add(Dense(2, activation=\"softmax\"))"
   ]
  },
  {
   "cell_type": "markdown",
   "id": "3bdb3ef8",
   "metadata": {},
   "source": [
    "# Model Compile"
   ]
  },
  {
   "cell_type": "code",
   "execution_count": 48,
   "id": "952de307",
   "metadata": {},
   "outputs": [],
   "source": [
    "model.compile(\n",
    "    optimizer=RMSprop(learning_rate=0.00001),\n",
    "    loss=\"categorical_crossentropy\",\n",
    "    metrics=['accuracy']\n",
    ")"
   ]
  },
  {
   "cell_type": "markdown",
   "id": "9d010686",
   "metadata": {},
   "source": [
    "# Check Accuracy"
   ]
  },
  {
   "cell_type": "code",
   "execution_count": null,
   "id": "7f9ca399",
   "metadata": {},
   "outputs": [
    {
     "name": "stdout",
     "output_type": "stream",
     "text": [
      "Epoch 1/10\n",
      "47/47 [==============================] - ETA: 0s - loss: 0.2249 - accuracy: 0.8933 "
     ]
    },
    {
     "name": "stderr",
     "output_type": "stream",
     "text": [
      "WARNING:absl:Found untraced functions such as _jit_compiled_convolution_op, _jit_compiled_convolution_op, _jit_compiled_convolution_op, _jit_compiled_convolution_op, _jit_compiled_convolution_op while saving (showing 5 of 13). These functions will not be directly callable after loading.\n"
     ]
    },
    {
     "name": "stdout",
     "output_type": "stream",
     "text": [
      "INFO:tensorflow:Assets written to: tmp\\checkpoint\\assets\n"
     ]
    },
    {
     "name": "stderr",
     "output_type": "stream",
     "text": [
      "INFO:tensorflow:Assets written to: tmp\\checkpoint\\assets\n"
     ]
    },
    {
     "name": "stdout",
     "output_type": "stream",
     "text": [
      "47/47 [==============================] - 830s 18s/step - loss: 0.2249 - accuracy: 0.8933 - val_loss: 0.2698 - val_accuracy: 0.9286\n",
      "Epoch 2/10\n",
      "47/47 [==============================] - 842s 18s/step - loss: 0.2069 - accuracy: 0.9108 - val_loss: 0.5458 - val_accuracy: 0.8929\n",
      "Epoch 3/10\n",
      "47/47 [==============================] - 633s 13s/step - loss: 0.1971 - accuracy: 0.9133 - val_loss: 0.4062 - val_accuracy: 0.9179\n",
      "Epoch 4/10\n",
      "47/47 [==============================] - 630s 13s/step - loss: 0.1722 - accuracy: 0.9267 - val_loss: 0.2763 - val_accuracy: 0.9429\n",
      "Epoch 5/10\n",
      "20/47 [===========>..................] - ETA: 5:32 - loss: 0.1594 - accuracy: 0.9438"
     ]
    }
   ],
   "source": [
    "os.makedirs(\"tmp/vgg16_checkpoints\")\n",
    "checkpoint_callback = ModelCheckpoint(\n",
    "    filepath=\"tmp/checkpoint\",\n",
    "    save_weights_only=False,\n",
    "    save_best_only=True\n",
    ")\n",
    "model.fit(\n",
    "    train_generator,\n",
    "    validation_data=val_generator,\n",
    "    epochs=10,\n",
    "    callbacks=[\n",
    "        checkpoint_callback\n",
    "    ]\n",
    ")"
   ]
  },
  {
   "cell_type": "markdown",
   "id": "b4647d09",
   "metadata": {},
   "source": [
    "# ResNet50"
   ]
  },
  {
   "cell_type": "code",
   "execution_count": null,
   "id": "78042756",
   "metadata": {},
   "outputs": [],
   "source": [
    "base_model = ResNet50(include_top=False, input_shape=(224, 224, 3))"
   ]
  },
  {
   "cell_type": "code",
   "execution_count": null,
   "id": "73b10754",
   "metadata": {},
   "outputs": [],
   "source": [
    "model = Sequential()\n",
    "model.add(base_model)\n",
    "model.add(Flatten())\n",
    "model.add(Dense(512, activation=\"relu\"))\n",
    "model.add(Dropout(0.2))\n",
    "model.add(Dense(256, activation=\"relu\"))\n",
    "model.add(Dropout(0.2))\n",
    "model.add(Dense(2, activation=\"softmax\"))"
   ]
  },
  {
   "cell_type": "code",
   "execution_count": null,
   "id": "207f47f5",
   "metadata": {},
   "outputs": [],
   "source": [
    "model.compile(\n",
    "    optimizer=RMSprop(learning_rate=0.00001),\n",
    "    loss=\"categorical_crossentropy\",\n",
    "    metrics=['accuracy']\n",
    ")"
   ]
  },
  {
   "cell_type": "code",
   "execution_count": null,
   "id": "109ad56b",
   "metadata": {},
   "outputs": [],
   "source": [
    "os.makedirs(\"tmp/resnet_checkpoints\")\n",
    "checkpoint_callback = ModelCheckpoint(\n",
    "    filepath=\"tmp/checkpoint\",\n",
    "    save_weights_only=False,\n",
    "    save_best_only=True\n",
    ")\n",
    "model.fit(\n",
    "    train_generator,\n",
    "    validation_data=val_generator,\n",
    "    epochs=50,\n",
    "    callbacks=[\n",
    "        checkpoint_callback\n",
    "    ]\n",
    ")"
   ]
  },
  {
   "cell_type": "markdown",
   "id": "48c2175f",
   "metadata": {},
   "source": [
    "# Mobile Net"
   ]
  },
  {
   "cell_type": "code",
   "execution_count": null,
   "id": "2425a3dc",
   "metadata": {},
   "outputs": [],
   "source": [
    "base_model = MobileNet(include_top=False, input_shape=(224, 224, 3))"
   ]
  },
  {
   "cell_type": "code",
   "execution_count": null,
   "id": "80a7490e",
   "metadata": {},
   "outputs": [],
   "source": [
    "model = Sequential()\n",
    "model.add(base_model)\n",
    "model.add(Flatten())\n",
    "model.add(Dense(512, activation=\"relu\"))\n",
    "model.add(Dropout(0.2))\n",
    "model.add(Dense(256, activation=\"relu\"))\n",
    "model.add(Dropout(0.2))\n",
    "model.add(Dense(2, activation=\"softmax\"))"
   ]
  },
  {
   "cell_type": "code",
   "execution_count": null,
   "id": "fc2549ef",
   "metadata": {},
   "outputs": [],
   "source": [
    "model.compile(\n",
    "    optimizer=RMSprop(learning_rate=0.00001),\n",
    "    loss=\"categorical_crossentropy\",\n",
    "    metrics=['accuracy']\n",
    ")"
   ]
  },
  {
   "cell_type": "code",
   "execution_count": null,
   "id": "8b39ec98",
   "metadata": {},
   "outputs": [],
   "source": [
    "os.makedirs(\"tmp/mobilenet_checkpoints\")\n",
    "checkpoint_callback = ModelCheckpoint(\n",
    "    filepath=\"tmp/checkpoint\",\n",
    "    save_weights_only=False,\n",
    "    save_best_only=True\n",
    ")\n",
    "model.fit(\n",
    "    train_generator,\n",
    "    validation_data=val_generator,\n",
    "    epochs=50,\n",
    "    callbacks=[\n",
    "        checkpoint_callback\n",
    "    ]\n",
    ")"
   ]
  },
  {
   "cell_type": "code",
   "execution_count": null,
   "id": "7493c42c",
   "metadata": {},
   "outputs": [],
   "source": []
  }
 ],
 "metadata": {
  "kernelspec": {
   "display_name": "Python 3 (ipykernel)",
   "language": "python",
   "name": "python3"
  },
  "language_info": {
   "codemirror_mode": {
    "name": "ipython",
    "version": 3
   },
   "file_extension": ".py",
   "mimetype": "text/x-python",
   "name": "python",
   "nbconvert_exporter": "python",
   "pygments_lexer": "ipython3",
   "version": "3.9.12"
  }
 },
 "nbformat": 4,
 "nbformat_minor": 5
}
